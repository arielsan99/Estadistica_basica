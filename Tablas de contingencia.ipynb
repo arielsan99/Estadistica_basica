{
 "cells": [
  {
   "cell_type": "markdown",
   "metadata": {},
   "source": [
    "# Tablas de contingencia"
   ]
  },
  {
   "cell_type": "code",
   "execution_count": 99,
   "metadata": {},
   "outputs": [
    {
     "data": {
      "text/plain": [
       "datos\n",
       "D F M \n",
       "2 5 3 "
      ]
     },
     "metadata": {},
     "output_type": "display_data"
    }
   ],
   "source": [
    "datos <-c('D','F', NA, 'F', 'F', 'F', 'F', 'D', 'M', 'M', 'M',NA)\n",
    "\n",
    "# D Desconocido\n",
    "# M Masculino\n",
    "# H Femenino\n",
    "\n",
    "table(datos)"
   ]
  },
  {
   "cell_type": "code",
   "execution_count": 100,
   "metadata": {},
   "outputs": [
    {
     "data": {
      "text/plain": [
       "datos\n",
       "   D    F    M <NA> \n",
       "   2    5    3    2 "
      ]
     },
     "metadata": {},
     "output_type": "display_data"
    }
   ],
   "source": [
    "# De la tabla anterior vemos que NO aparece el conteo de los NA, para obtenerlo usamos lo siguiente.\n",
    "\n",
    "\n",
    "table(datos, useNA='always')"
   ]
  },
  {
   "cell_type": "code",
   "execution_count": 101,
   "metadata": {},
   "outputs": [
    {
     "data": {
      "text/plain": [
       "datos\n",
       "   F    M <NA> \n",
       "   5    3    2 "
      ]
     },
     "metadata": {},
     "output_type": "display_data"
    }
   ],
   "source": [
    "table(datos, exclude=c('D'))\n"
   ]
  },
  {
   "cell_type": "code",
   "execution_count": 102,
   "metadata": {},
   "outputs": [
    {
     "data": {
      "text/plain": [
       "datos\n",
       "F M \n",
       "5 3 "
      ]
     },
     "metadata": {},
     "output_type": "display_data"
    }
   ],
   "source": [
    "filtro <- table(datos, exclude=c('D', NA))\n",
    "filtro"
   ]
  },
  {
   "cell_type": "code",
   "execution_count": 103,
   "metadata": {},
   "outputs": [
    {
     "data": {
      "text/html": [
       "<strong>M:</strong> 3"
      ],
      "text/latex": [
       "\\textbf{M:} 3"
      ],
      "text/markdown": [
       "**M:** 3"
      ],
      "text/plain": [
       "M \n",
       "3 "
      ]
     },
     "metadata": {},
     "output_type": "display_data"
    },
    {
     "data": {
      "text/html": [
       "<strong>F:</strong> 5"
      ],
      "text/latex": [
       "\\textbf{F:} 5"
      ],
      "text/markdown": [
       "**F:** 5"
      ],
      "text/plain": [
       "F \n",
       "5 "
      ]
     },
     "metadata": {},
     "output_type": "display_data"
    },
    {
     "data": {
      "text/html": [
       "<strong>D:</strong> 2"
      ],
      "text/latex": [
       "\\textbf{D:} 2"
      ],
      "text/markdown": [
       "**D:** 2"
      ],
      "text/plain": [
       "D \n",
       "2 "
      ]
     },
     "metadata": {},
     "output_type": "display_data"
    },
    {
     "data": {
      "text/html": [
       "10"
      ],
      "text/latex": [
       "10"
      ],
      "text/markdown": [
       "10"
      ],
      "text/plain": [
       "[1] 10"
      ]
     },
     "metadata": {},
     "output_type": "display_data"
    }
   ],
   "source": [
    "table(datos)[\"M\"]\n",
    "\n",
    "table(datos)[\"F\"]\n",
    "\n",
    "table(datos)[\"D\"]\n",
    "\n",
    "sum(table(datos))"
   ]
  },
  {
   "cell_type": "code",
   "execution_count": 104,
   "metadata": {},
   "outputs": [
    {
     "data": {
      "text/plain": [
       "    datos\n",
       "edad D F M\n",
       "  10 1 0 0\n",
       "  14 0 1 0\n",
       "  21 1 0 0\n",
       "  32 0 1 0\n",
       "  39 0 1 0\n",
       "  54 0 2 0\n",
       "  56 0 0 2\n",
       "  67 0 0 1"
      ]
     },
     "metadata": {},
     "output_type": "display_data"
    },
    {
     "data": {
      "text/plain": [
       "    datos\n",
       "edad D F M\n",
       "  10 1 0 0\n",
       "  14 0 1 0\n",
       "  21 1 0 0\n",
       "  32 0 1 0\n",
       "  39 0 1 0\n",
       "  54 0 2 0\n",
       "  56 0 0 2\n",
       "  67 0 0 1"
      ]
     },
     "metadata": {},
     "output_type": "display_data"
    }
   ],
   "source": [
    "edad <-c('10','39', NA, '32', '54', '54', '14', '21', '56', '67', '56',NA)\n",
    "\n",
    "\n",
    "# tabla de frecuencias absolutas para ver cómo se relaciona \n",
    "# el edad con datos del ejemplo anterior.\n",
    "\n",
    "table(edad, datos)\n",
    "\n",
    "\n",
    "tablaFrecuencias <- table(edad, datos)\n",
    "tablaFrecuencias"
   ]
  },
  {
   "cell_type": "markdown",
   "metadata": {},
   "source": [
    "### Frecuencias relativas"
   ]
  },
  {
   "cell_type": "markdown",
   "metadata": {},
   "source": [
    "\n",
    "$$ f_{ij} = \\frac{n_{ij}}{n} $$\n",
    "\n",
    "<br>\n",
    "<br>\n",
    "$$n_{ij} $$es la frecuencia absoluta de la fila i y la columna j."
   ]
  },
  {
   "cell_type": "markdown",
   "metadata": {},
   "source": [
    "######  Función prop.table\n",
    "\n",
    "La función prop.table se utiliza para crear tablas de frecuencia relativa a partir de tablas de frecuencia absoluta, la estructura de la función se muestra a continuación."
   ]
  },
  {
   "cell_type": "code",
   "execution_count": 105,
   "metadata": {},
   "outputs": [
    {
     "data": {
      "text/plain": [
       "    datos\n",
       "edad   D   F   M\n",
       "  10 0.1 0.0 0.0\n",
       "  14 0.0 0.1 0.0\n",
       "  21 0.1 0.0 0.0\n",
       "  32 0.0 0.1 0.0\n",
       "  39 0.0 0.1 0.0\n",
       "  54 0.0 0.2 0.0\n",
       "  56 0.0 0.0 0.2\n",
       "  67 0.0 0.0 0.1"
      ]
     },
     "metadata": {},
     "output_type": "display_data"
    }
   ],
   "source": [
    "prop.table(x=tablaFrecuencias, margin=NULL)"
   ]
  },
  {
   "cell_type": "code",
   "execution_count": 106,
   "metadata": {},
   "outputs": [
    {
     "data": {
      "text/plain": [
       "datos\n",
       "  D   F   M \n",
       "0.2 0.5 0.3 "
      ]
     },
     "metadata": {},
     "output_type": "display_data"
    },
    {
     "data": {
      "text/plain": [
       "datos\n",
       " D  F  M \n",
       "20 50 30 "
      ]
     },
     "metadata": {},
     "output_type": "display_data"
    },
    {
     "data": {
      "text/plain": [
       "datos\n",
       "        D         F         M \n",
       "0.1666667 0.4166667 0.2500000 "
      ]
     },
     "metadata": {},
     "output_type": "display_data"
    },
    {
     "data": {
      "text/html": [
       "'M'"
      ],
      "text/latex": [
       "'M'"
      ],
      "text/markdown": [
       "'M'"
      ],
      "text/plain": [
       "[1] \"M\""
      ]
     },
     "metadata": {},
     "output_type": "display_data"
    }
   ],
   "source": [
    "prop.table(table(datos))\n",
    "100*prop.table(table(datos))\n",
    "table(datos)/length(datos)\n",
    "names(which(table(datos)==3))\n"
   ]
  },
  {
   "cell_type": "code",
   "execution_count": 107,
   "metadata": {},
   "outputs": [],
   "source": [
    "moda <- function(d){\n",
    "  names(which(table(d)==max(table(d))))\n",
    "}\n",
    "\n",
    "valor_moda = moda(datos)"
   ]
  },
  {
   "cell_type": "markdown",
   "metadata": {},
   "source": [
    "$$Mo = Li+\\frac{f_{i}-f_{i-1}}{(f_{i}-f_{i-1})+(f_{i}-f_{i+1})}*c\\\\\n",
    "$$\n",
    "\n",
    "<br>\n",
    "<br>\n",
    "\n",
    "\n",
    "$$L_i$$ : límite inferior del intervalo clase modal\n",
    "\n",
    "<br>\n",
    "<br>\n",
    "\n",
    "$$f_i $$ : frecuencia absoluta del intervalo modal\n",
    "\n",
    "<br>\n",
    "<br>\n",
    "\n",
    "$$f_{i-1}$$ : frecuencia absoluta del intervalo anterior al modal\n",
    "\n",
    "<br>\n",
    "<br>\n",
    "\n",
    "$$f_{i+1}$$ : frecuencia absoluta del intervalo siguiente al modal\n",
    "\n",
    "<br>\n",
    "<br>\n",
    "\n",
    "$$c$$ : amplitud del intervalo modal\n",
    "\n"
   ]
  },
  {
   "cell_type": "code",
   "execution_count": 108,
   "metadata": {},
   "outputs": [
    {
     "data": {
      "text/html": [
       "<span style=white-space:pre-wrap>'La moda es :  F'</span>"
      ],
      "text/latex": [
       "'La moda es :  F'"
      ],
      "text/markdown": [
       "<span style=white-space:pre-wrap>'La moda es :  F'</span>"
      ],
      "text/plain": [
       "[1] \"La moda es :  F\""
      ]
     },
     "metadata": {},
     "output_type": "display_data"
    }
   ],
   "source": [
    "x<-paste(\"La moda es : \",valor_moda)\n",
    "x"
   ]
  },
  {
   "cell_type": "markdown",
   "metadata": {},
   "source": [
    "######  Función addmargins\n",
    "\n",
    "Esta función se puede utilizar para agregar los totales por filas o por columnas a una tabla de frecuencia absoluta o relativa. La estructura de la función es la siguiente."
   ]
  },
  {
   "cell_type": "code",
   "execution_count": 109,
   "metadata": {},
   "outputs": [
    {
     "data": {
      "text/html": [
       "<table>\n",
       "<thead><tr><th></th><th scope=col>D</th><th scope=col>F</th><th scope=col>M</th><th scope=col>Sum</th></tr></thead>\n",
       "<tbody>\n",
       "\t<tr><th scope=row>10</th><td>1 </td><td>0 </td><td>0 </td><td> 1</td></tr>\n",
       "\t<tr><th scope=row>14</th><td>0 </td><td>1 </td><td>0 </td><td> 1</td></tr>\n",
       "\t<tr><th scope=row>21</th><td>1 </td><td>0 </td><td>0 </td><td> 1</td></tr>\n",
       "\t<tr><th scope=row>32</th><td>0 </td><td>1 </td><td>0 </td><td> 1</td></tr>\n",
       "\t<tr><th scope=row>39</th><td>0 </td><td>1 </td><td>0 </td><td> 1</td></tr>\n",
       "\t<tr><th scope=row>54</th><td>0 </td><td>2 </td><td>0 </td><td> 2</td></tr>\n",
       "\t<tr><th scope=row>56</th><td>0 </td><td>0 </td><td>2 </td><td> 2</td></tr>\n",
       "\t<tr><th scope=row>67</th><td>0 </td><td>0 </td><td>1 </td><td> 1</td></tr>\n",
       "\t<tr><th scope=row>Sum</th><td>2 </td><td>5 </td><td>3 </td><td>10</td></tr>\n",
       "</tbody>\n",
       "</table>\n"
      ],
      "text/latex": [
       "\\begin{tabular}{r|llll}\n",
       "  & D & F & M & Sum\\\\\n",
       "\\hline\n",
       "\t10 & 1  & 0  & 0  &  1\\\\\n",
       "\t14 & 0  & 1  & 0  &  1\\\\\n",
       "\t21 & 1  & 0  & 0  &  1\\\\\n",
       "\t32 & 0  & 1  & 0  &  1\\\\\n",
       "\t39 & 0  & 1  & 0  &  1\\\\\n",
       "\t54 & 0  & 2  & 0  &  2\\\\\n",
       "\t56 & 0  & 0  & 2  &  2\\\\\n",
       "\t67 & 0  & 0  & 1  &  1\\\\\n",
       "\tSum & 2  & 5  & 3  & 10\\\\\n",
       "\\end{tabular}\n"
      ],
      "text/markdown": [
       "\n",
       "| <!--/--> | D | F | M | Sum |\n",
       "|---|---|---|---|---|\n",
       "| 10 | 1  | 0  | 0  |  1 |\n",
       "| 14 | 0  | 1  | 0  |  1 |\n",
       "| 21 | 1  | 0  | 0  |  1 |\n",
       "| 32 | 0  | 1  | 0  |  1 |\n",
       "| 39 | 0  | 1  | 0  |  1 |\n",
       "| 54 | 0  | 2  | 0  |  2 |\n",
       "| 56 | 0  | 0  | 2  |  2 |\n",
       "| 67 | 0  | 0  | 1  |  1 |\n",
       "| Sum | 2  | 5  | 3  | 10 |\n",
       "\n"
      ],
      "text/plain": [
       "     datos\n",
       "edad  D F M Sum\n",
       "  10  1 0 0  1 \n",
       "  14  0 1 0  1 \n",
       "  21  1 0 0  1 \n",
       "  32  0 1 0  1 \n",
       "  39  0 1 0  1 \n",
       "  54  0 2 0  2 \n",
       "  56  0 0 2  2 \n",
       "  67  0 0 1  1 \n",
       "  Sum 2 5 3 10 "
      ]
     },
     "metadata": {},
     "output_type": "display_data"
    }
   ],
   "source": [
    "addmargins(A=tablaFrecuencias)"
   ]
  },
  {
   "cell_type": "code",
   "execution_count": 110,
   "metadata": {},
   "outputs": [
    {
     "data": {
      "text/html": [
       "<table>\n",
       "<thead><tr><th></th><th scope=col>D</th><th scope=col>F</th><th scope=col>M</th></tr></thead>\n",
       "<tbody>\n",
       "\t<tr><th scope=row>10</th><td>1</td><td>0</td><td>0</td></tr>\n",
       "\t<tr><th scope=row>14</th><td>0</td><td>1</td><td>0</td></tr>\n",
       "\t<tr><th scope=row>21</th><td>1</td><td>0</td><td>0</td></tr>\n",
       "\t<tr><th scope=row>32</th><td>0</td><td>1</td><td>0</td></tr>\n",
       "\t<tr><th scope=row>39</th><td>0</td><td>1</td><td>0</td></tr>\n",
       "\t<tr><th scope=row>54</th><td>0</td><td>2</td><td>0</td></tr>\n",
       "\t<tr><th scope=row>56</th><td>0</td><td>0</td><td>2</td></tr>\n",
       "\t<tr><th scope=row>67</th><td>0</td><td>0</td><td>1</td></tr>\n",
       "\t<tr><th scope=row>Sum</th><td>2</td><td>5</td><td>3</td></tr>\n",
       "</tbody>\n",
       "</table>\n"
      ],
      "text/latex": [
       "\\begin{tabular}{r|lll}\n",
       "  & D & F & M\\\\\n",
       "\\hline\n",
       "\t10 & 1 & 0 & 0\\\\\n",
       "\t14 & 0 & 1 & 0\\\\\n",
       "\t21 & 1 & 0 & 0\\\\\n",
       "\t32 & 0 & 1 & 0\\\\\n",
       "\t39 & 0 & 1 & 0\\\\\n",
       "\t54 & 0 & 2 & 0\\\\\n",
       "\t56 & 0 & 0 & 2\\\\\n",
       "\t67 & 0 & 0 & 1\\\\\n",
       "\tSum & 2 & 5 & 3\\\\\n",
       "\\end{tabular}\n"
      ],
      "text/markdown": [
       "\n",
       "| <!--/--> | D | F | M |\n",
       "|---|---|---|---|\n",
       "| 10 | 1 | 0 | 0 |\n",
       "| 14 | 0 | 1 | 0 |\n",
       "| 21 | 1 | 0 | 0 |\n",
       "| 32 | 0 | 1 | 0 |\n",
       "| 39 | 0 | 1 | 0 |\n",
       "| 54 | 0 | 2 | 0 |\n",
       "| 56 | 0 | 0 | 2 |\n",
       "| 67 | 0 | 0 | 1 |\n",
       "| Sum | 2 | 5 | 3 |\n",
       "\n"
      ],
      "text/plain": [
       "     datos\n",
       "edad  D F M\n",
       "  10  1 0 0\n",
       "  14  0 1 0\n",
       "  21  1 0 0\n",
       "  32  0 1 0\n",
       "  39  0 1 0\n",
       "  54  0 2 0\n",
       "  56  0 0 2\n",
       "  67  0 0 1\n",
       "  Sum 2 5 3"
      ]
     },
     "metadata": {},
     "output_type": "display_data"
    }
   ],
   "source": [
    "addmargins(A=tablaFrecuencias,margin=1)"
   ]
  },
  {
   "cell_type": "code",
   "execution_count": 111,
   "metadata": {},
   "outputs": [
    {
     "data": {
      "text/html": [
       "<table>\n",
       "<thead><tr><th></th><th scope=col>D</th><th scope=col>F</th><th scope=col>M</th><th scope=col>Sum</th></tr></thead>\n",
       "<tbody>\n",
       "\t<tr><th scope=row>10</th><td>1</td><td>0</td><td>0</td><td>1</td></tr>\n",
       "\t<tr><th scope=row>14</th><td>0</td><td>1</td><td>0</td><td>1</td></tr>\n",
       "\t<tr><th scope=row>21</th><td>1</td><td>0</td><td>0</td><td>1</td></tr>\n",
       "\t<tr><th scope=row>32</th><td>0</td><td>1</td><td>0</td><td>1</td></tr>\n",
       "\t<tr><th scope=row>39</th><td>0</td><td>1</td><td>0</td><td>1</td></tr>\n",
       "\t<tr><th scope=row>54</th><td>0</td><td>2</td><td>0</td><td>2</td></tr>\n",
       "\t<tr><th scope=row>56</th><td>0</td><td>0</td><td>2</td><td>2</td></tr>\n",
       "\t<tr><th scope=row>67</th><td>0</td><td>0</td><td>1</td><td>1</td></tr>\n",
       "</tbody>\n",
       "</table>\n"
      ],
      "text/latex": [
       "\\begin{tabular}{r|llll}\n",
       "  & D & F & M & Sum\\\\\n",
       "\\hline\n",
       "\t10 & 1 & 0 & 0 & 1\\\\\n",
       "\t14 & 0 & 1 & 0 & 1\\\\\n",
       "\t21 & 1 & 0 & 0 & 1\\\\\n",
       "\t32 & 0 & 1 & 0 & 1\\\\\n",
       "\t39 & 0 & 1 & 0 & 1\\\\\n",
       "\t54 & 0 & 2 & 0 & 2\\\\\n",
       "\t56 & 0 & 0 & 2 & 2\\\\\n",
       "\t67 & 0 & 0 & 1 & 1\\\\\n",
       "\\end{tabular}\n"
      ],
      "text/markdown": [
       "\n",
       "| <!--/--> | D | F | M | Sum |\n",
       "|---|---|---|---|---|\n",
       "| 10 | 1 | 0 | 0 | 1 |\n",
       "| 14 | 0 | 1 | 0 | 1 |\n",
       "| 21 | 1 | 0 | 0 | 1 |\n",
       "| 32 | 0 | 1 | 0 | 1 |\n",
       "| 39 | 0 | 1 | 0 | 1 |\n",
       "| 54 | 0 | 2 | 0 | 2 |\n",
       "| 56 | 0 | 0 | 2 | 2 |\n",
       "| 67 | 0 | 0 | 1 | 1 |\n",
       "\n"
      ],
      "text/plain": [
       "    datos\n",
       "edad D F M Sum\n",
       "  10 1 0 0 1  \n",
       "  14 0 1 0 1  \n",
       "  21 1 0 0 1  \n",
       "  32 0 1 0 1  \n",
       "  39 0 1 0 1  \n",
       "  54 0 2 0 2  \n",
       "  56 0 0 2 2  \n",
       "  67 0 0 1 1  "
      ]
     },
     "metadata": {},
     "output_type": "display_data"
    }
   ],
   "source": [
    "addmargins(A=tablaFrecuencias,margin=2)"
   ]
  },
  {
   "cell_type": "code",
   "execution_count": 134,
   "metadata": {},
   "outputs": [],
   "source": [
    "tabla_FR<-prop.table(x=tablaFrecuencias, margin=NULL)\n",
    "\n",
    "\n",
    "# La suma de todas las frecuencias relativas es igual a 1"
   ]
  },
  {
   "cell_type": "markdown",
   "metadata": {},
   "source": [
    "$$\\sum^c_{i=1}\\sum^{r}_{j=1}\\,f_{ij} = 1$$\t"
   ]
  },
  {
   "cell_type": "code",
   "execution_count": 135,
   "metadata": {},
   "outputs": [
    {
     "data": {
      "text/html": [
       "1"
      ],
      "text/latex": [
       "1"
      ],
      "text/markdown": [
       "1"
      ],
      "text/plain": [
       "[1] 1"
      ]
     },
     "metadata": {},
     "output_type": "display_data"
    }
   ],
   "source": [
    "sum(tabla_FR)"
   ]
  },
  {
   "cell_type": "markdown",
   "metadata": {},
   "source": [
    "### Frecuencias marginales\n"
   ]
  },
  {
   "cell_type": "code",
   "execution_count": 136,
   "metadata": {},
   "outputs": [
    {
     "data": {
      "text/plain": [
       "edad\n",
       "10 14 21 32 39 54 56 67 \n",
       " 1  1  1  1  1  2  2  1 "
      ]
     },
     "metadata": {},
     "output_type": "display_data"
    }
   ],
   "source": [
    "filas_marginals <- margin.table(tablaFrecuencias, 1)\n",
    "filas_marginals"
   ]
  },
  {
   "cell_type": "code",
   "execution_count": 137,
   "metadata": {},
   "outputs": [
    {
     "data": {
      "text/plain": [
       "datos\n",
       "D F M \n",
       "2 5 3 "
      ]
     },
     "metadata": {},
     "output_type": "display_data"
    }
   ],
   "source": [
    "columnas_marginals <- margin.table(tablaFrecuencias, 2)\n",
    "columnas_marginals"
   ]
  },
  {
   "cell_type": "markdown",
   "metadata": {},
   "source": [
    "### Frecuencias relativas marginales\n",
    "\n",
    "También podemos calcular Frecuencias relativas marginales, dividiendo las frecuencias marginales entre el tamaño de la muestra o sumando las frecuencias relativas por filas o columnas:\n"
   ]
  },
  {
   "cell_type": "code",
   "execution_count": 140,
   "metadata": {},
   "outputs": [
    {
     "data": {
      "text/plain": [
       "edad\n",
       " 10  14  21  32  39  54  56  67 \n",
       "0.1 0.1 0.1 0.1 0.1 0.2 0.2 0.1 "
      ]
     },
     "metadata": {},
     "output_type": "display_data"
    }
   ],
   "source": [
    "filas_rel_marginales <- margin.table(tabla_FR, 1)\n",
    "filas_rel_marginales"
   ]
  },
  {
   "cell_type": "code",
   "execution_count": 141,
   "metadata": {},
   "outputs": [
    {
     "data": {
      "text/plain": [
       "datos\n",
       "  D   F   M \n",
       "0.2 0.5 0.3 "
      ]
     },
     "metadata": {},
     "output_type": "display_data"
    }
   ],
   "source": [
    "columnas_rel_marginales <- margin.table(tabla_FR, 2)\n",
    "columnas_rel_marginales"
   ]
  }
 ],
 "metadata": {
  "kernelspec": {
   "display_name": "R",
   "language": "R",
   "name": "ir"
  },
  "language_info": {
   "codemirror_mode": "r",
   "file_extension": ".r",
   "mimetype": "text/x-r-source",
   "name": "R",
   "pygments_lexer": "r",
   "version": "3.6.1"
  }
 },
 "nbformat": 4,
 "nbformat_minor": 2
}
