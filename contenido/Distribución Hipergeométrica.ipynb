{
 "cells": [
  {
   "cell_type": "markdown",
   "metadata": {},
   "source": [
    "## Distribución Hipergeométrica"
   ]
  },
  {
   "cell_type": "markdown",
   "metadata": {},
   "source": [
    "Supongamos que tenemos 50 casas, de los cuales 14 son rojas. Queremos medir la probabilidad de encontrar un número determinado de casas rojas si elegimos $k=10$ casas al azar. "
   ]
  },
  {
   "cell_type": "code",
   "execution_count": 1,
   "metadata": {},
   "outputs": [
    {
     "name": "stdout",
     "output_type": "stream",
     "text": [
      "package 'Rlab' successfully unpacked and MD5 sums checked\n",
      "\n",
      "The downloaded binary packages are in\n",
      "\tC:\\Users\\asus\\AppData\\Local\\Temp\\RtmpaAciDR\\downloaded_packages\n"
     ]
    }
   ],
   "source": [
    "install.packages('Rlab')"
   ]
  },
  {
   "cell_type": "code",
   "execution_count": 4,
   "metadata": {},
   "outputs": [
    {
     "data": {
      "text/html": [
       "<ol class=list-inline>\n",
       "\t<li>0.0247449350371321</li>\n",
       "\t<li>0.128307070562907</li>\n",
       "\t<li>0.268070129568931</li>\n",
       "\t<li>0.295801522282958</li>\n",
       "\t<li>0.189805976798232</li>\n",
       "\t<li>0.073473281341251</li>\n",
       "\t<li>0.0172203003143557</li>\n",
       "\t<li>0.00238549614744322</li>\n",
       "\t<li>0.000184174334912895</li>\n",
       "\t<li>7.01616513953885e-06</li>\n",
       "\t<li>9.7446738049151e-08</li>\n",
       "\t<li>0</li>\n",
       "\t<li>0</li>\n",
       "</ol>\n"
      ],
      "text/latex": [
       "\\begin{enumerate*}\n",
       "\\item 0.0247449350371321\n",
       "\\item 0.128307070562907\n",
       "\\item 0.268070129568931\n",
       "\\item 0.295801522282958\n",
       "\\item 0.189805976798232\n",
       "\\item 0.073473281341251\n",
       "\\item 0.0172203003143557\n",
       "\\item 0.00238549614744322\n",
       "\\item 0.000184174334912895\n",
       "\\item 7.01616513953885e-06\n",
       "\\item 9.7446738049151e-08\n",
       "\\item 0\n",
       "\\item 0\n",
       "\\end{enumerate*}\n"
      ],
      "text/markdown": [
       "1. 0.0247449350371321\n",
       "2. 0.128307070562907\n",
       "3. 0.268070129568931\n",
       "4. 0.295801522282958\n",
       "5. 0.189805976798232\n",
       "6. 0.073473281341251\n",
       "7. 0.0172203003143557\n",
       "8. 0.00238549614744322\n",
       "9. 0.000184174334912895\n",
       "10. 7.01616513953885e-06\n",
       "11. 9.7446738049151e-08\n",
       "12. 0\n",
       "13. 0\n",
       "\n",
       "\n"
      ],
      "text/plain": [
       " [1] 2.474494e-02 1.283071e-01 2.680701e-01 2.958015e-01 1.898060e-01\n",
       " [6] 7.347328e-02 1.722030e-02 2.385496e-03 1.841743e-04 7.016165e-06\n",
       "[11] 9.744674e-08 0.000000e+00 0.000000e+00"
      ]
     },
     "metadata": {},
     "output_type": "display_data"
    },
    {
     "data": {
      "text/html": [
       "<ol class=list-inline>\n",
       "\t<li>0.0247449350371321</li>\n",
       "\t<li>0.153052005600039</li>\n",
       "\t<li>0.42112213516897</li>\n",
       "\t<li>0.716923657451928</li>\n",
       "\t<li>0.90672963425016</li>\n",
       "\t<li>0.980202915591411</li>\n",
       "\t<li>0.997423215905766</li>\n",
       "\t<li>0.99980871205321</li>\n",
       "\t<li>0.999992886388122</li>\n",
       "\t<li>0.999999902553262</li>\n",
       "\t<li>1</li>\n",
       "\t<li>1</li>\n",
       "\t<li>1</li>\n",
       "</ol>\n"
      ],
      "text/latex": [
       "\\begin{enumerate*}\n",
       "\\item 0.0247449350371321\n",
       "\\item 0.153052005600039\n",
       "\\item 0.42112213516897\n",
       "\\item 0.716923657451928\n",
       "\\item 0.90672963425016\n",
       "\\item 0.980202915591411\n",
       "\\item 0.997423215905766\n",
       "\\item 0.99980871205321\n",
       "\\item 0.999992886388122\n",
       "\\item 0.999999902553262\n",
       "\\item 1\n",
       "\\item 1\n",
       "\\item 1\n",
       "\\end{enumerate*}\n"
      ],
      "text/markdown": [
       "1. 0.0247449350371321\n",
       "2. 0.153052005600039\n",
       "3. 0.42112213516897\n",
       "4. 0.716923657451928\n",
       "5. 0.90672963425016\n",
       "6. 0.980202915591411\n",
       "7. 0.997423215905766\n",
       "8. 0.99980871205321\n",
       "9. 0.999992886388122\n",
       "10. 0.999999902553262\n",
       "11. 1\n",
       "12. 1\n",
       "13. 1\n",
       "\n",
       "\n"
      ],
      "text/plain": [
       " [1] 0.02474494 0.15305201 0.42112214 0.71692366 0.90672963 0.98020292\n",
       " [7] 0.99742322 0.99980871 0.99999289 0.99999990 1.00000000 1.00000000\n",
       "[13] 1.00000000"
      ]
     },
     "metadata": {},
     "output_type": "display_data"
    },
    {
     "data": {
      "text/html": [
       "3"
      ],
      "text/latex": [
       "3"
      ],
      "text/markdown": [
       "3"
      ],
      "text/plain": [
       "[1] 3"
      ]
     },
     "metadata": {},
     "output_type": "display_data"
    },
    {
     "data": {
      "image/png": "[encoded data removed]",
      "text/plain": [
       "Plot with title \"Histogram of data\""
      ]
     },
     "metadata": {},
     "output_type": "display_data"
    }
   ],
   "source": [
    "library(Rlab)\n",
    "M = 14\n",
    "N = 36\n",
    "k = 10\n",
    "dhyper(x = 0:12, m = M, n = N, k = k)\n",
    "phyper(q = 0:12, m = M, n = N, k = k)\n",
    "qhyper(p = 0.5, m = M, n = N, k = k)\n",
    "rhyper(nn = 1000, m = M, n = N, k = k) -> data\n",
    "hist(data, breaks = 8)"
   ]
  },
  {
   "cell_type": "code",
   "execution_count": null,
   "metadata": {},
   "outputs": [],
   "source": []
  }
 ],
 "metadata": {
  "kernelspec": {
   "display_name": "R",
   "language": "R",
   "name": "ir"
  },
  "language_info": {
   "codemirror_mode": "r",
   "file_extension": ".r",
   "mimetype": "text/x-r-source",
   "name": "R",
   "pygments_lexer": "r",
   "version": "3.6.1"
  }
 },
 "nbformat": 4,
 "nbformat_minor": 2
}
