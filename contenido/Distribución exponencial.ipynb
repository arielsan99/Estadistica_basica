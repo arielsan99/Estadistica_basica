{
 "cells": [
  {
   "cell_type": "markdown",
   "metadata": {},
   "source": [
    "## Distribución exponencial\n",
    "\n",
    "La distribución exponencial es una distribución de probabilidad continua que se utiliza para modelar el tiempo o espacio entre eventos en un proceso de Poisson. En este tutorial aprenderás a utilizar las funciones dexp, pexp, qexp y rexp y las diferencias entre ellas. Por lo tanto, aprenderás a calcular y dibujar las funciones de densidad y distribución, calcular probabilidades, cuantiles y generar muestras aleatorias siguiendo una distribución exponencial en R."
   ]
  },
  {
   "cell_type": "markdown",
   "metadata": {},
   "source": [
    "dexp\tDensidad exponencial\n",
    "(Función de densidad de probabilidad)\n",
    "\n",
    "<br>\n",
    "<br>\n",
    "\n",
    "pexp\tDistribución exponencial\n",
    "(Función de distribución acumulada)\n",
    "\n",
    "<br><br>\n",
    "\n",
    "qexp\tFunción cuantil de la distribución exponencial\n",
    "\n",
    "<br><br>\n",
    "\n",
    "\n",
    "rexp\tGeneración de números\n",
    "pseudoaleatorios exponenciales"
   ]
  },
  {
   "cell_type": "markdown",
   "metadata": {},
   "source": [
    "### Función dexp"
   ]
  },
  {
   "cell_type": "code",
   "execution_count": 10,
   "metadata": {},
   "outputs": [
    {
     "data": {
      "text/html": [
       "<ol class=list-inline>\n",
       "\t<li>1</li>\n",
       "\t<li>0.740818220681718</li>\n",
       "\t<li>0.548811636094026</li>\n",
       "\t<li>0.406569659740599</li>\n",
       "\t<li>0.301194211912202</li>\n",
       "\t<li>0.22313016014843</li>\n",
       "\t<li>0.165298888221587</li>\n",
       "\t<li>0.122456428252982</li>\n",
       "\t<li>0.0907179532894125</li>\n",
       "\t<li>0.0672055127397498</li>\n",
       "\t<li>0.0497870683678639</li>\n",
       "\t<li>0.03688316740124</li>\n",
       "\t<li>0.0273237224472926</li>\n",
       "\t<li>0.0202419114458044</li>\n",
       "\t<li>0.0149955768204777</li>\n",
       "\t<li>0.0111089965382423</li>\n",
       "\t<li>0.00822974704902003</li>\n",
       "\t<li>0.00609674656551564</li>\n",
       "\t<li>0.00451658094261267</li>\n",
       "\t<li>0.00334596545747127</li>\n",
       "\t<li>0.00247875217666636</li>\n",
       "\t<li>0.00183630477702891</li>\n",
       "\t<li>0.00136036803754789</li>\n",
       "\t<li>0.00100778542904851</li>\n",
       "\t<li>0.00074658580837668</li>\n",
       "\t<li>0.000553084370147834</li>\n",
       "\t<li>0.000409734978979787</li>\n",
       "\t<li>0.000303539138078867</li>\n",
       "\t<li>0.000224867324178848</li>\n",
       "\t<li>0.000166585810987634</li>\n",
       "\t<li>0.00012340980408668</li>\n",
       "\t<li>9.14242314781734e-05</li>\n",
       "\t<li>6.77287364908539e-05</li>\n",
       "\t<li>5.01746820561753e-05</li>\n",
       "\t<li>3.71703186841267e-05</li>\n",
       "\t<li>2.75364493497472e-05</li>\n",
       "\t<li>2.0399503411172e-05</li>\n",
       "\t<li>1.5112323819855e-05</li>\n",
       "\t<li>1.11954848425909e-05</li>\n",
       "\t<li>8.29381916075737e-06</li>\n",
       "\t<li>6.14421235332821e-06</li>\n",
       "\t<li>4.55174446308324e-06</li>\n",
       "\t<li>3.37201523413918e-06</li>\n",
       "\t<li>2.49805032586663e-06</li>\n",
       "\t<li>1.85060119758191e-06</li>\n",
       "\t<li>1.37095908638408e-06</li>\n",
       "\t<li>1.01563147100249e-06</li>\n",
       "\t<li>7.52398299216421e-07</li>\n",
       "\t<li>5.57390369269461e-07</li>\n",
       "\t<li>4.12924941587327e-07</li>\n",
       "\t<li>3.05902320501826e-07</li>\n",
       "\t<li>2.26618012776571e-07</li>\n",
       "\t<li>1.67882752999566e-07</li>\n",
       "\t<li>1.24370602360287e-07</li>\n",
       "\t<li>9.21360083456613e-08</li>\n",
       "\t<li>6.82560337633487e-08</li>\n",
       "\t<li>5.05653134833552e-08</li>\n",
       "\t<li>3.74597055629526e-08</li>\n",
       "\t<li>2.77508324224076e-08</li>\n",
       "\t<li>2.05583222976045e-08</li>\n",
       "\t<li>1.52299797447126e-08</li>\n",
       "\t<li>1.12826464954966e-08</li>\n",
       "\t<li>8.35839010137464e-09</li>\n",
       "\t<li>6.19204768266404e-09</li>\n",
       "\t<li>4.58718174664752e-09</li>\n",
       "\t<li>3.39826781949507e-09</li>\n",
       "\t<li>2.51749871943828e-09</li>\n",
       "</ol>\n"
      ],
      "text/latex": [
       "\\begin{enumerate*}\n",
       "\\item 1\n",
       "\\item 0.740818220681718\n",
       "\\item 0.548811636094026\n",
       "\\item 0.406569659740599\n",
       "\\item 0.301194211912202\n",
       "\\item 0.22313016014843\n",
       "\\item 0.165298888221587\n",
       "\\item 0.122456428252982\n",
       "\\item 0.0907179532894125\n",
       "\\item 0.0672055127397498\n",
       "\\item 0.0497870683678639\n",
       "\\item 0.03688316740124\n",
       "\\item 0.0273237224472926\n",
       "\\item 0.0202419114458044\n",
       "\\item 0.0149955768204777\n",
       "\\item 0.0111089965382423\n",
       "\\item 0.00822974704902003\n",
       "\\item 0.00609674656551564\n",
       "\\item 0.00451658094261267\n",
       "\\item 0.00334596545747127\n",
       "\\item 0.00247875217666636\n",
       "\\item 0.00183630477702891\n",
       "\\item 0.00136036803754789\n",
       "\\item 0.00100778542904851\n",
       "\\item 0.00074658580837668\n",
       "\\item 0.000553084370147834\n",
       "\\item 0.000409734978979787\n",
       "\\item 0.000303539138078867\n",
       "\\item 0.000224867324178848\n",
       "\\item 0.000166585810987634\n",
       "\\item 0.00012340980408668\n",
       "\\item 9.14242314781734e-05\n",
       "\\item 6.77287364908539e-05\n",
       "\\item 5.01746820561753e-05\n",
       "\\item 3.71703186841267e-05\n",
       "\\item 2.75364493497472e-05\n",
       "\\item 2.0399503411172e-05\n",
       "\\item 1.5112323819855e-05\n",
       "\\item 1.11954848425909e-05\n",
       "\\item 8.29381916075737e-06\n",
       "\\item 6.14421235332821e-06\n",
       "\\item 4.55174446308324e-06\n",
       "\\item 3.37201523413918e-06\n",
       "\\item 2.49805032586663e-06\n",
       "\\item 1.85060119758191e-06\n",
       "\\item 1.37095908638408e-06\n",
       "\\item 1.01563147100249e-06\n",
       "\\item 7.52398299216421e-07\n",
       "\\item 5.57390369269461e-07\n",
       "\\item 4.12924941587327e-07\n",
       "\\item 3.05902320501826e-07\n",
       "\\item 2.26618012776571e-07\n",
       "\\item 1.67882752999566e-07\n",
       "\\item 1.24370602360287e-07\n",
       "\\item 9.21360083456613e-08\n",
       "\\item 6.82560337633487e-08\n",
       "\\item 5.05653134833552e-08\n",
       "\\item 3.74597055629526e-08\n",
       "\\item 2.77508324224076e-08\n",
       "\\item 2.05583222976045e-08\n",
       "\\item 1.52299797447126e-08\n",
       "\\item 1.12826464954966e-08\n",
       "\\item 8.35839010137464e-09\n",
       "\\item 6.19204768266404e-09\n",
       "\\item 4.58718174664752e-09\n",
       "\\item 3.39826781949507e-09\n",
       "\\item 2.51749871943828e-09\n",
       "\\end{enumerate*}\n"
      ],
      "text/markdown": [
       "1. 1\n",
       "2. 0.740818220681718\n",
       "3. 0.548811636094026\n",
       "4. 0.406569659740599\n",
       "5. 0.301194211912202\n",
       "6. 0.22313016014843\n",
       "7. 0.165298888221587\n",
       "8. 0.122456428252982\n",
       "9. 0.0907179532894125\n",
       "10. 0.0672055127397498\n",
       "11. 0.0497870683678639\n",
       "12. 0.03688316740124\n",
       "13. 0.0273237224472926\n",
       "14. 0.0202419114458044\n",
       "15. 0.0149955768204777\n",
       "16. 0.0111089965382423\n",
       "17. 0.00822974704902003\n",
       "18. 0.00609674656551564\n",
       "19. 0.00451658094261267\n",
       "20. 0.00334596545747127\n",
       "21. 0.00247875217666636\n",
       "22. 0.00183630477702891\n",
       "23. 0.00136036803754789\n",
       "24. 0.00100778542904851\n",
       "25. 0.00074658580837668\n",
       "26. 0.000553084370147834\n",
       "27. 0.000409734978979787\n",
       "28. 0.000303539138078867\n",
       "29. 0.000224867324178848\n",
       "30. 0.000166585810987634\n",
       "31. 0.00012340980408668\n",
       "32. 9.14242314781734e-05\n",
       "33. 6.77287364908539e-05\n",
       "34. 5.01746820561753e-05\n",
       "35. 3.71703186841267e-05\n",
       "36. 2.75364493497472e-05\n",
       "37. 2.0399503411172e-05\n",
       "38. 1.5112323819855e-05\n",
       "39. 1.11954848425909e-05\n",
       "40. 8.29381916075737e-06\n",
       "41. 6.14421235332821e-06\n",
       "42. 4.55174446308324e-06\n",
       "43. 3.37201523413918e-06\n",
       "44. 2.49805032586663e-06\n",
       "45. 1.85060119758191e-06\n",
       "46. 1.37095908638408e-06\n",
       "47. 1.01563147100249e-06\n",
       "48. 7.52398299216421e-07\n",
       "49. 5.57390369269461e-07\n",
       "50. 4.12924941587327e-07\n",
       "51. 3.05902320501826e-07\n",
       "52. 2.26618012776571e-07\n",
       "53. 1.67882752999566e-07\n",
       "54. 1.24370602360287e-07\n",
       "55. 9.21360083456613e-08\n",
       "56. 6.82560337633487e-08\n",
       "57. 5.05653134833552e-08\n",
       "58. 3.74597055629526e-08\n",
       "59. 2.77508324224076e-08\n",
       "60. 2.05583222976045e-08\n",
       "61. 1.52299797447126e-08\n",
       "62. 1.12826464954966e-08\n",
       "63. 8.35839010137464e-09\n",
       "64. 6.19204768266404e-09\n",
       "65. 4.58718174664752e-09\n",
       "66. 3.39826781949507e-09\n",
       "67. 2.51749871943828e-09\n",
       "\n",
       "\n"
      ],
      "text/plain": [
       " [1] 1.000000e+00 7.408182e-01 5.488116e-01 4.065697e-01 3.011942e-01\n",
       " [6] 2.231302e-01 1.652989e-01 1.224564e-01 9.071795e-02 6.720551e-02\n",
       "[11] 4.978707e-02 3.688317e-02 2.732372e-02 2.024191e-02 1.499558e-02\n",
       "[16] 1.110900e-02 8.229747e-03 6.096747e-03 4.516581e-03 3.345965e-03\n",
       "[21] 2.478752e-03 1.836305e-03 1.360368e-03 1.007785e-03 7.465858e-04\n",
       "[26] 5.530844e-04 4.097350e-04 3.035391e-04 2.248673e-04 1.665858e-04\n",
       "[31] 1.234098e-04 9.142423e-05 6.772874e-05 5.017468e-05 3.717032e-05\n",
       "[36] 2.753645e-05 2.039950e-05 1.511232e-05 1.119548e-05 8.293819e-06\n",
       "[41] 6.144212e-06 4.551744e-06 3.372015e-06 2.498050e-06 1.850601e-06\n",
       "[46] 1.370959e-06 1.015631e-06 7.523983e-07 5.573904e-07 4.129249e-07\n",
       "[51] 3.059023e-07 2.266180e-07 1.678828e-07 1.243706e-07 9.213601e-08\n",
       "[56] 6.825603e-08 5.056531e-08 3.745971e-08 2.775083e-08 2.055832e-08\n",
       "[61] 1.522998e-08 1.128265e-08 8.358390e-09 6.192048e-09 4.587182e-09\n",
       "[66] 3.398268e-09 2.517499e-09"
      ]
     },
     "metadata": {},
     "output_type": "display_data"
    }
   ],
   "source": [
    "x <- seq(0, 20, 0.3)\n",
    "\n",
    "\n",
    "dexp(x,           # Valores del eje X (> 0)\n",
    "     rate = 1,    # Vector de parámetros (lambdas)\n",
    "     log = FALSE) # Si TRUE, las probabilidades vienen dadas como logaritmo"
   ]
  },
  {
   "cell_type": "code",
   "execution_count": 14,
   "metadata": {},
   "outputs": [
    {
     "data": {
      "image/png": "[encoded data removed]",
      "text/plain": [
       "plot without title"
      ]
     },
     "metadata": {},
     "output_type": "display_data"
    }
   ],
   "source": [
    "\n",
    "\n",
    "plot(x, dexp(x, 2 # Vector de parámetros (lambdas) lambda 2\n",
    "            ), type = \"l\",\n",
    "     ylab = \"f(x)\", lwd = 2, col = \"red\")\n",
    "\n",
    "lines(x, dexp(x, rate = 1 # Vector de parámetros (lambdas) lambda 1\n",
    "             ), col = \"blue\", lty = 1, lwd = 2)\n",
    "\n",
    "legend(\"topright\", c(expression(paste(, lambda)), \"2\", \"1\"),\n",
    "       lty = c(0, 1, 1), col = c(\"blue\", \"red\"), box.lty = 0, lwd = 2)"
   ]
  },
  {
   "cell_type": "markdown",
   "metadata": {},
   "source": [
    "### Función pexp"
   ]
  },
  {
   "cell_type": "code",
   "execution_count": 16,
   "metadata": {},
   "outputs": [
    {
     "data": {
      "text/html": [
       "<ol class=list-inline>\n",
       "\t<li>0</li>\n",
       "\t<li>0.259181779318282</li>\n",
       "\t<li>0.451188363905974</li>\n",
       "\t<li>0.593430340259401</li>\n",
       "\t<li>0.698805788087798</li>\n",
       "\t<li>0.77686983985157</li>\n",
       "\t<li>0.834701111778413</li>\n",
       "\t<li>0.877543571747018</li>\n",
       "\t<li>0.909282046710588</li>\n",
       "\t<li>0.93279448726025</li>\n",
       "\t<li>0.950212931632136</li>\n",
       "\t<li>0.96311683259876</li>\n",
       "\t<li>0.972676277552707</li>\n",
       "\t<li>0.979758088554196</li>\n",
       "\t<li>0.985004423179522</li>\n",
       "\t<li>0.988891003461758</li>\n",
       "\t<li>0.99177025295098</li>\n",
       "\t<li>0.993903253434484</li>\n",
       "\t<li>0.995483419057387</li>\n",
       "\t<li>0.996654034542529</li>\n",
       "\t<li>0.997521247823334</li>\n",
       "\t<li>0.998163695222971</li>\n",
       "\t<li>0.998639631962452</li>\n",
       "\t<li>0.998992214570951</li>\n",
       "\t<li>0.999253414191623</li>\n",
       "\t<li>0.999446915629852</li>\n",
       "\t<li>0.99959026502102</li>\n",
       "\t<li>0.999696460861921</li>\n",
       "\t<li>0.999775132675821</li>\n",
       "\t<li>0.999833414189012</li>\n",
       "\t<li>0.999876590195913</li>\n",
       "\t<li>0.999908575768522</li>\n",
       "\t<li>0.999932271263509</li>\n",
       "\t<li>0.999949825317944</li>\n",
       "\t<li>0.999962829681316</li>\n",
       "\t<li>0.99997246355065</li>\n",
       "\t<li>0.999979600496589</li>\n",
       "\t<li>0.99998488767618</li>\n",
       "\t<li>0.999988804515157</li>\n",
       "\t<li>0.999991706180839</li>\n",
       "\t<li>0.999993855787647</li>\n",
       "\t<li>0.999995448255537</li>\n",
       "\t<li>0.999996627984766</li>\n",
       "\t<li>0.999997501949674</li>\n",
       "\t<li>0.999998149398802</li>\n",
       "\t<li>0.999998629040914</li>\n",
       "\t<li>0.999998984368529</li>\n",
       "\t<li>0.999999247601701</li>\n",
       "\t<li>0.999999442609631</li>\n",
       "\t<li>0.999999587075058</li>\n",
       "\t<li>0.99999969409768</li>\n",
       "\t<li>0.999999773381987</li>\n",
       "\t<li>0.999999832117247</li>\n",
       "\t<li>0.999999875629398</li>\n",
       "\t<li>0.999999907863992</li>\n",
       "\t<li>0.999999931743966</li>\n",
       "\t<li>0.999999949434687</li>\n",
       "\t<li>0.999999962540294</li>\n",
       "\t<li>0.999999972249168</li>\n",
       "\t<li>0.999999979441678</li>\n",
       "\t<li>0.99999998477002</li>\n",
       "\t<li>0.999999988717354</li>\n",
       "\t<li>0.99999999164161</li>\n",
       "\t<li>0.999999993807952</li>\n",
       "\t<li>0.999999995412818</li>\n",
       "\t<li>0.999999996601732</li>\n",
       "\t<li>0.999999997482501</li>\n",
       "</ol>\n"
      ],
      "text/latex": [
       "\\begin{enumerate*}\n",
       "\\item 0\n",
       "\\item 0.259181779318282\n",
       "\\item 0.451188363905974\n",
       "\\item 0.593430340259401\n",
       "\\item 0.698805788087798\n",
       "\\item 0.77686983985157\n",
       "\\item 0.834701111778413\n",
       "\\item 0.877543571747018\n",
       "\\item 0.909282046710588\n",
       "\\item 0.93279448726025\n",
       "\\item 0.950212931632136\n",
       "\\item 0.96311683259876\n",
       "\\item 0.972676277552707\n",
       "\\item 0.979758088554196\n",
       "\\item 0.985004423179522\n",
       "\\item 0.988891003461758\n",
       "\\item 0.99177025295098\n",
       "\\item 0.993903253434484\n",
       "\\item 0.995483419057387\n",
       "\\item 0.996654034542529\n",
       "\\item 0.997521247823334\n",
       "\\item 0.998163695222971\n",
       "\\item 0.998639631962452\n",
       "\\item 0.998992214570951\n",
       "\\item 0.999253414191623\n",
       "\\item 0.999446915629852\n",
       "\\item 0.99959026502102\n",
       "\\item 0.999696460861921\n",
       "\\item 0.999775132675821\n",
       "\\item 0.999833414189012\n",
       "\\item 0.999876590195913\n",
       "\\item 0.999908575768522\n",
       "\\item 0.999932271263509\n",
       "\\item 0.999949825317944\n",
       "\\item 0.999962829681316\n",
       "\\item 0.99997246355065\n",
       "\\item 0.999979600496589\n",
       "\\item 0.99998488767618\n",
       "\\item 0.999988804515157\n",
       "\\item 0.999991706180839\n",
       "\\item 0.999993855787647\n",
       "\\item 0.999995448255537\n",
       "\\item 0.999996627984766\n",
       "\\item 0.999997501949674\n",
       "\\item 0.999998149398802\n",
       "\\item 0.999998629040914\n",
       "\\item 0.999998984368529\n",
       "\\item 0.999999247601701\n",
       "\\item 0.999999442609631\n",
       "\\item 0.999999587075058\n",
       "\\item 0.99999969409768\n",
       "\\item 0.999999773381987\n",
       "\\item 0.999999832117247\n",
       "\\item 0.999999875629398\n",
       "\\item 0.999999907863992\n",
       "\\item 0.999999931743966\n",
       "\\item 0.999999949434687\n",
       "\\item 0.999999962540294\n",
       "\\item 0.999999972249168\n",
       "\\item 0.999999979441678\n",
       "\\item 0.99999998477002\n",
       "\\item 0.999999988717354\n",
       "\\item 0.99999999164161\n",
       "\\item 0.999999993807952\n",
       "\\item 0.999999995412818\n",
       "\\item 0.999999996601732\n",
       "\\item 0.999999997482501\n",
       "\\end{enumerate*}\n"
      ],
      "text/markdown": [
       "1. 0\n",
       "2. 0.259181779318282\n",
       "3. 0.451188363905974\n",
       "4. 0.593430340259401\n",
       "5. 0.698805788087798\n",
       "6. 0.77686983985157\n",
       "7. 0.834701111778413\n",
       "8. 0.877543571747018\n",
       "9. 0.909282046710588\n",
       "10. 0.93279448726025\n",
       "11. 0.950212931632136\n",
       "12. 0.96311683259876\n",
       "13. 0.972676277552707\n",
       "14. 0.979758088554196\n",
       "15. 0.985004423179522\n",
       "16. 0.988891003461758\n",
       "17. 0.99177025295098\n",
       "18. 0.993903253434484\n",
       "19. 0.995483419057387\n",
       "20. 0.996654034542529\n",
       "21. 0.997521247823334\n",
       "22. 0.998163695222971\n",
       "23. 0.998639631962452\n",
       "24. 0.998992214570951\n",
       "25. 0.999253414191623\n",
       "26. 0.999446915629852\n",
       "27. 0.99959026502102\n",
       "28. 0.999696460861921\n",
       "29. 0.999775132675821\n",
       "30. 0.999833414189012\n",
       "31. 0.999876590195913\n",
       "32. 0.999908575768522\n",
       "33. 0.999932271263509\n",
       "34. 0.999949825317944\n",
       "35. 0.999962829681316\n",
       "36. 0.99997246355065\n",
       "37. 0.999979600496589\n",
       "38. 0.99998488767618\n",
       "39. 0.999988804515157\n",
       "40. 0.999991706180839\n",
       "41. 0.999993855787647\n",
       "42. 0.999995448255537\n",
       "43. 0.999996627984766\n",
       "44. 0.999997501949674\n",
       "45. 0.999998149398802\n",
       "46. 0.999998629040914\n",
       "47. 0.999998984368529\n",
       "48. 0.999999247601701\n",
       "49. 0.999999442609631\n",
       "50. 0.999999587075058\n",
       "51. 0.99999969409768\n",
       "52. 0.999999773381987\n",
       "53. 0.999999832117247\n",
       "54. 0.999999875629398\n",
       "55. 0.999999907863992\n",
       "56. 0.999999931743966\n",
       "57. 0.999999949434687\n",
       "58. 0.999999962540294\n",
       "59. 0.999999972249168\n",
       "60. 0.999999979441678\n",
       "61. 0.99999998477002\n",
       "62. 0.999999988717354\n",
       "63. 0.99999999164161\n",
       "64. 0.999999993807952\n",
       "65. 0.999999995412818\n",
       "66. 0.999999996601732\n",
       "67. 0.999999997482501\n",
       "\n",
       "\n"
      ],
      "text/plain": [
       " [1] 0.0000000 0.2591818 0.4511884 0.5934303 0.6988058 0.7768698 0.8347011\n",
       " [8] 0.8775436 0.9092820 0.9327945 0.9502129 0.9631168 0.9726763 0.9797581\n",
       "[15] 0.9850044 0.9888910 0.9917703 0.9939033 0.9954834 0.9966540 0.9975212\n",
       "[22] 0.9981637 0.9986396 0.9989922 0.9992534 0.9994469 0.9995903 0.9996965\n",
       "[29] 0.9997751 0.9998334 0.9998766 0.9999086 0.9999323 0.9999498 0.9999628\n",
       "[36] 0.9999725 0.9999796 0.9999849 0.9999888 0.9999917 0.9999939 0.9999954\n",
       "[43] 0.9999966 0.9999975 0.9999981 0.9999986 0.9999990 0.9999992 0.9999994\n",
       "[50] 0.9999996 0.9999997 0.9999998 0.9999998 0.9999999 0.9999999 0.9999999\n",
       "[57] 0.9999999 1.0000000 1.0000000 1.0000000 1.0000000 1.0000000 1.0000000\n",
       "[64] 1.0000000 1.0000000 1.0000000 1.0000000"
      ]
     },
     "metadata": {},
     "output_type": "display_data"
    }
   ],
   "source": [
    "pexp(x,                 \n",
    "     rate = 1,\n",
    "     lower.tail = TRUE, # Si TRUE, las probabilidades son P(X <= x), o P(X > x) en otro caso\n",
    "     log.p = FALSE)"
   ]
  },
  {
   "cell_type": "code",
   "execution_count": 17,
   "metadata": {},
   "outputs": [
    {
     "data": {
      "text/html": [
       "0.451188363905974"
      ],
      "text/latex": [
       "0.451188363905974"
      ],
      "text/markdown": [
       "0.451188363905974"
      ],
      "text/plain": [
       "[1] 0.4511884"
      ]
     },
     "metadata": {},
     "output_type": "display_data"
    },
    {
     "data": {
      "text/html": [
       "0.451188363905974"
      ],
      "text/latex": [
       "0.451188363905974"
      ],
      "text/markdown": [
       "0.451188363905974"
      ],
      "text/plain": [
       "[1] 0.4511884"
      ]
     },
     "metadata": {},
     "output_type": "display_data"
    }
   ],
   "source": [
    "pexp(3, rate = 0.2) # 0.4511884 o 45.12%\n",
    "1 - pexp(3, rate = 0.2, lower.tail = FALSE) # Equivalente"
   ]
  },
  {
   "cell_type": "code",
   "execution_count": 26,
   "metadata": {},
   "outputs": [],
   "source": [
    "# rate: parámetro lambda\n",
    "# ...: argumentos adicionales a ser pasados a la función lines\n",
    "\n",
    "exp_area <- function(rate = 1, lim_inf, lim_sup, color = \"lightgray\", ...) {\n",
    "    x <- seq(0, 12/rate, 0.01) \n",
    "    \n",
    "    if (missing(lim_inf)) {\n",
    "       lim_inf <- min(x)\n",
    "    }\n",
    "    if (missing(lim_sup)) {\n",
    "        lim_sup <- max(x)\n",
    "    }\n",
    "\n",
    "    x2 <- seq(lim_inf, lim_sup, length = 100)    \n",
    "    plot(x, dexp(x, rate = rate), type = \"n\", ylab = \"\")\n",
    "   \n",
    "    y <- dexp(x2, rate = rate)\n",
    "    polygon(c(lim_inf, x2, lim_sup), c(0, y, 0), col = color)\n",
    "    lines(x, dexp(x, rate = rate), type = \"l\", ...)\n",
    "}"
   ]
  },
  {
   "cell_type": "code",
   "execution_count": 27,
   "metadata": {},
   "outputs": [
    {
     "data": {
      "image/png": "[encoded data removed]",
      "text/plain": [
       "plot without title"
      ]
     },
     "metadata": {},
     "output_type": "display_data"
    }
   ],
   "source": [
    "exp_area(rate = 0.5, lim_inf = 0.5, lim_sup = 10, color = \"red\")\n"
   ]
  },
  {
   "cell_type": "code",
   "execution_count": 31,
   "metadata": {},
   "outputs": [
    {
     "data": {
      "image/png": "[encoded data removed]",
      "text/plain": [
       "plot without title"
      ]
     },
     "metadata": {},
     "output_type": "display_data"
    }
   ],
   "source": [
    "exp_area(rate = 0.2, lim_sup = 10, color = rgb(0, 0, 1, alpha = 0.5))\n",
    "text(1, 0.075, \"0.451188363905974\", srt = 90, col = \"white\", cex = 1.2)"
   ]
  },
  {
   "cell_type": "code",
   "execution_count": 34,
   "metadata": {},
   "outputs": [
    {
     "data": {
      "text/html": [
       "0.135335283236613"
      ],
      "text/latex": [
       "0.135335283236613"
      ],
      "text/markdown": [
       "0.135335283236613"
      ],
      "text/plain": [
       "[1] 0.1353353"
      ]
     },
     "metadata": {},
     "output_type": "display_data"
    }
   ],
   "source": [
    "pexp(10, rate = 0.2, lower.tail = FALSE) # 0.1353353 o 13.53%\n"
   ]
  },
  {
   "cell_type": "code",
   "execution_count": 35,
   "metadata": {},
   "outputs": [
    {
     "data": {
      "image/png": "[encoded data removed]",
      "text/plain": [
       "plot without title"
      ]
     },
     "metadata": {},
     "output_type": "display_data"
    }
   ],
   "source": [
    "exp_area(rate = 0.2, lim_inf = 10, color = rgb(0, 0, 1, alpha = 0.5))\n",
    "arrows(8, 0.1, 11, 0.015, length = 0.1, lwd = 2)\n",
    "text(8, 0.12, \"13.53%\", cex = 1.2)"
   ]
  },
  {
   "cell_type": "code",
   "execution_count": 45,
   "metadata": {},
   "outputs": [
    {
     "data": {
      "text/html": [
       "0.318092372803578"
      ],
      "text/latex": [
       "0.318092372803578"
      ],
      "text/markdown": [
       "0.318092372803578"
      ],
      "text/plain": [
       "[1] 0.3180924"
      ]
     },
     "metadata": {},
     "output_type": "display_data"
    }
   ],
   "source": [
    "pexp(15, rate = 0.2) - pexp(5, rate = 0.2) # 0.318092372803578 o 31.81%\n"
   ]
  },
  {
   "cell_type": "code",
   "execution_count": 50,
   "metadata": {},
   "outputs": [
    {
     "data": {
      "image/png": "[encoded data removed]",
      "text/plain": [
       "plot without title"
      ]
     },
     "metadata": {},
     "output_type": "display_data"
    }
   ],
   "source": [
    "exp_area(rate = 0.2, lim_inf = 5, lim_sup = 15, color = rgb(0, 0, 1, alpha = 0.5))\n",
    "text(4, 0.05, \"31%\", col = \"black\", cex = 1.2)"
   ]
  },
  {
   "cell_type": "markdown",
   "metadata": {},
   "source": [
    "## Función qexp"
   ]
  },
  {
   "cell_type": "code",
   "execution_count": 53,
   "metadata": {},
   "outputs": [
    {
     "name": "stderr",
     "output_type": "stream",
     "text": [
      "Warning message in qexp(x, rate = 1, lower.tail = TRUE, log.p = FALSE):\n",
      "\"NaNs produced\""
     ]
    },
    {
     "data": {
      "text/html": [
       "<ol class=list-inline>\n",
       "\t<li>0</li>\n",
       "\t<li>0.356674943938732</li>\n",
       "\t<li>0.916290731874155</li>\n",
       "\t<li>2.30258509299405</li>\n",
       "\t<li>NaN</li>\n",
       "\t<li>NaN</li>\n",
       "\t<li>NaN</li>\n",
       "\t<li>NaN</li>\n",
       "\t<li>NaN</li>\n",
       "\t<li>NaN</li>\n",
       "\t<li>NaN</li>\n",
       "\t<li>NaN</li>\n",
       "\t<li>NaN</li>\n",
       "\t<li>NaN</li>\n",
       "\t<li>NaN</li>\n",
       "\t<li>NaN</li>\n",
       "\t<li>NaN</li>\n",
       "\t<li>NaN</li>\n",
       "\t<li>NaN</li>\n",
       "\t<li>NaN</li>\n",
       "\t<li>NaN</li>\n",
       "\t<li>NaN</li>\n",
       "\t<li>NaN</li>\n",
       "\t<li>NaN</li>\n",
       "\t<li>NaN</li>\n",
       "\t<li>NaN</li>\n",
       "\t<li>NaN</li>\n",
       "\t<li>NaN</li>\n",
       "\t<li>NaN</li>\n",
       "\t<li>NaN</li>\n",
       "\t<li>NaN</li>\n",
       "\t<li>NaN</li>\n",
       "\t<li>NaN</li>\n",
       "\t<li>NaN</li>\n",
       "\t<li>NaN</li>\n",
       "\t<li>NaN</li>\n",
       "\t<li>NaN</li>\n",
       "\t<li>NaN</li>\n",
       "\t<li>NaN</li>\n",
       "\t<li>NaN</li>\n",
       "\t<li>NaN</li>\n",
       "\t<li>NaN</li>\n",
       "\t<li>NaN</li>\n",
       "\t<li>NaN</li>\n",
       "\t<li>NaN</li>\n",
       "\t<li>NaN</li>\n",
       "\t<li>NaN</li>\n",
       "\t<li>NaN</li>\n",
       "\t<li>NaN</li>\n",
       "\t<li>NaN</li>\n",
       "\t<li>NaN</li>\n",
       "\t<li>NaN</li>\n",
       "\t<li>NaN</li>\n",
       "\t<li>NaN</li>\n",
       "\t<li>NaN</li>\n",
       "\t<li>NaN</li>\n",
       "\t<li>NaN</li>\n",
       "\t<li>NaN</li>\n",
       "\t<li>NaN</li>\n",
       "\t<li>NaN</li>\n",
       "\t<li>NaN</li>\n",
       "\t<li>NaN</li>\n",
       "\t<li>NaN</li>\n",
       "\t<li>NaN</li>\n",
       "\t<li>NaN</li>\n",
       "\t<li>NaN</li>\n",
       "\t<li>NaN</li>\n",
       "</ol>\n"
      ],
      "text/latex": [
       "\\begin{enumerate*}\n",
       "\\item 0\n",
       "\\item 0.356674943938732\n",
       "\\item 0.916290731874155\n",
       "\\item 2.30258509299405\n",
       "\\item NaN\n",
       "\\item NaN\n",
       "\\item NaN\n",
       "\\item NaN\n",
       "\\item NaN\n",
       "\\item NaN\n",
       "\\item NaN\n",
       "\\item NaN\n",
       "\\item NaN\n",
       "\\item NaN\n",
       "\\item NaN\n",
       "\\item NaN\n",
       "\\item NaN\n",
       "\\item NaN\n",
       "\\item NaN\n",
       "\\item NaN\n",
       "\\item NaN\n",
       "\\item NaN\n",
       "\\item NaN\n",
       "\\item NaN\n",
       "\\item NaN\n",
       "\\item NaN\n",
       "\\item NaN\n",
       "\\item NaN\n",
       "\\item NaN\n",
       "\\item NaN\n",
       "\\item NaN\n",
       "\\item NaN\n",
       "\\item NaN\n",
       "\\item NaN\n",
       "\\item NaN\n",
       "\\item NaN\n",
       "\\item NaN\n",
       "\\item NaN\n",
       "\\item NaN\n",
       "\\item NaN\n",
       "\\item NaN\n",
       "\\item NaN\n",
       "\\item NaN\n",
       "\\item NaN\n",
       "\\item NaN\n",
       "\\item NaN\n",
       "\\item NaN\n",
       "\\item NaN\n",
       "\\item NaN\n",
       "\\item NaN\n",
       "\\item NaN\n",
       "\\item NaN\n",
       "\\item NaN\n",
       "\\item NaN\n",
       "\\item NaN\n",
       "\\item NaN\n",
       "\\item NaN\n",
       "\\item NaN\n",
       "\\item NaN\n",
       "\\item NaN\n",
       "\\item NaN\n",
       "\\item NaN\n",
       "\\item NaN\n",
       "\\item NaN\n",
       "\\item NaN\n",
       "\\item NaN\n",
       "\\item NaN\n",
       "\\end{enumerate*}\n"
      ],
      "text/markdown": [
       "1. 0\n",
       "2. 0.356674943938732\n",
       "3. 0.916290731874155\n",
       "4. 2.30258509299405\n",
       "5. NaN\n",
       "6. NaN\n",
       "7. NaN\n",
       "8. NaN\n",
       "9. NaN\n",
       "10. NaN\n",
       "11. NaN\n",
       "12. NaN\n",
       "13. NaN\n",
       "14. NaN\n",
       "15. NaN\n",
       "16. NaN\n",
       "17. NaN\n",
       "18. NaN\n",
       "19. NaN\n",
       "20. NaN\n",
       "21. NaN\n",
       "22. NaN\n",
       "23. NaN\n",
       "24. NaN\n",
       "25. NaN\n",
       "26. NaN\n",
       "27. NaN\n",
       "28. NaN\n",
       "29. NaN\n",
       "30. NaN\n",
       "31. NaN\n",
       "32. NaN\n",
       "33. NaN\n",
       "34. NaN\n",
       "35. NaN\n",
       "36. NaN\n",
       "37. NaN\n",
       "38. NaN\n",
       "39. NaN\n",
       "40. NaN\n",
       "41. NaN\n",
       "42. NaN\n",
       "43. NaN\n",
       "44. NaN\n",
       "45. NaN\n",
       "46. NaN\n",
       "47. NaN\n",
       "48. NaN\n",
       "49. NaN\n",
       "50. NaN\n",
       "51. NaN\n",
       "52. NaN\n",
       "53. NaN\n",
       "54. NaN\n",
       "55. NaN\n",
       "56. NaN\n",
       "57. NaN\n",
       "58. NaN\n",
       "59. NaN\n",
       "60. NaN\n",
       "61. NaN\n",
       "62. NaN\n",
       "63. NaN\n",
       "64. NaN\n",
       "65. NaN\n",
       "66. NaN\n",
       "67. NaN\n",
       "\n",
       "\n"
      ],
      "text/plain": [
       " [1] 0.0000000 0.3566749 0.9162907 2.3025851       NaN       NaN       NaN\n",
       " [8]       NaN       NaN       NaN       NaN       NaN       NaN       NaN\n",
       "[15]       NaN       NaN       NaN       NaN       NaN       NaN       NaN\n",
       "[22]       NaN       NaN       NaN       NaN       NaN       NaN       NaN\n",
       "[29]       NaN       NaN       NaN       NaN       NaN       NaN       NaN\n",
       "[36]       NaN       NaN       NaN       NaN       NaN       NaN       NaN\n",
       "[43]       NaN       NaN       NaN       NaN       NaN       NaN       NaN\n",
       "[50]       NaN       NaN       NaN       NaN       NaN       NaN       NaN\n",
       "[57]       NaN       NaN       NaN       NaN       NaN       NaN       NaN\n",
       "[64]       NaN       NaN       NaN       NaN"
      ]
     },
     "metadata": {},
     "output_type": "display_data"
    }
   ],
   "source": [
    "qexp(x,                 \n",
    "     rate = 1,\n",
    "     lower.tail = TRUE, # Si TRUE, las probabilidades son P(X <= x), o P(X > x) en otro caso\n",
    "     log.p = FALSE)"
   ]
  },
  {
   "cell_type": "code",
   "execution_count": 56,
   "metadata": {},
   "outputs": [
    {
     "data": {
      "text/html": [
       "1.9999998761344"
      ],
      "text/latex": [
       "1.9999998761344"
      ],
      "text/markdown": [
       "1.9999998761344"
      ],
      "text/plain": [
       "[1] 2"
      ]
     },
     "metadata": {},
     "output_type": "display_data"
    },
    {
     "data": {
      "text/html": [
       "1.9999998761344"
      ],
      "text/latex": [
       "1.9999998761344"
      ],
      "text/markdown": [
       "1.9999998761344"
      ],
      "text/plain": [
       "[1] 2"
      ]
     },
     "metadata": {},
     "output_type": "display_data"
    }
   ],
   "source": [
    "qexp(0.8646647)\n",
    "\n",
    "# Equivalente\n",
    "\n",
    "qexp(1 - 0.8646647, lower.tail = FALSE)"
   ]
  },
  {
   "cell_type": "code",
   "execution_count": 58,
   "metadata": {},
   "outputs": [
    {
     "data": {
      "image/png": "[encoded data removed]",
      "text/plain": [
       "plot without title"
      ]
     },
     "metadata": {},
     "output_type": "display_data"
    }
   ],
   "source": [
    "exp_area(rate = 1, lim_sup = 2, color = rgb(0, 0, 1, alpha = 0.5))\n",
    "points(2, 0, pch = 19)\n",
    "arrows(4, 0.4, 2.2, 0.02, length = 0.1)\n",
    "text(7.5, 0.5, \"qexp(0.8646647) = 2\", cex = 1.2)"
   ]
  },
  {
   "cell_type": "code",
   "execution_count": 60,
   "metadata": {},
   "outputs": [
    {
     "data": {
      "image/png": "[encoded data removed]",
      "text/plain": [
       "plot without title"
      ]
     },
     "metadata": {},
     "output_type": "display_data"
    }
   ],
   "source": [
    "# Función cuantil exponencial\n",
    "\n",
    "plot(qexp, pexp(0), pexp(8), lwd = 2, xlab = \"p\", ylab = \"Q(p)\")\n",
    "segments(0, 2, pexp(2), 2, lty = 2, lwd = 2)\n",
    "segments(pexp(2), 0, pexp(2), qexp(0.8646647), lty = 2, lwd = 2)"
   ]
  },
  {
   "cell_type": "markdown",
   "metadata": {},
   "source": [
    "## Función rexp"
   ]
  },
  {
   "cell_type": "code",
   "execution_count": 62,
   "metadata": {},
   "outputs": [
    {
     "data": {
      "text/html": [
       "<ol class=list-inline>\n",
       "\t<li>0.347057272680104</li>\n",
       "\t<li>0.628235316369683</li>\n",
       "\t<li>0.507101774068015</li>\n",
       "\t<li>0.422037605196238</li>\n",
       "\t<li>0.0355580258183181</li>\n",
       "</ol>\n"
      ],
      "text/latex": [
       "\\begin{enumerate*}\n",
       "\\item 0.347057272680104\n",
       "\\item 0.628235316369683\n",
       "\\item 0.507101774068015\n",
       "\\item 0.422037605196238\n",
       "\\item 0.0355580258183181\n",
       "\\end{enumerate*}\n"
      ],
      "text/markdown": [
       "1. 0.347057272680104\n",
       "2. 0.628235316369683\n",
       "3. 0.507101774068015\n",
       "4. 0.422037605196238\n",
       "5. 0.0355580258183181\n",
       "\n",
       "\n"
      ],
      "text/plain": [
       "[1] 0.34705727 0.62823532 0.50710177 0.42203761 0.03555803"
      ]
     },
     "metadata": {},
     "output_type": "display_data"
    }
   ],
   "source": [
    "rexp(5, # Número de observaciones a ser generadas\n",
    "     rate = 1) "
   ]
  },
  {
   "cell_type": "markdown",
   "metadata": {},
   "source": [
    "si quieres que la salida sea reproducible, deberás establecer una semilla para el generador de números pseudoaleatorios de R:"
   ]
  },
  {
   "cell_type": "code",
   "execution_count": 64,
   "metadata": {},
   "outputs": [
    {
     "data": {
      "text/html": [
       "<ol class=list-inline>\n",
       "\t<li>0.755181833128345</li>\n",
       "\t<li>1.18164277910711</li>\n",
       "\t<li>0.145706726703793</li>\n",
       "\t<li>0.139795261868498</li>\n",
       "\t<li>0.436068625779175</li>\n",
       "</ol>\n"
      ],
      "text/latex": [
       "\\begin{enumerate*}\n",
       "\\item 0.755181833128345\n",
       "\\item 1.18164277910711\n",
       "\\item 0.145706726703793\n",
       "\\item 0.139795261868498\n",
       "\\item 0.436068625779175\n",
       "\\end{enumerate*}\n"
      ],
      "text/markdown": [
       "1. 0.755181833128345\n",
       "2. 1.18164277910711\n",
       "3. 0.145706726703793\n",
       "4. 0.139795261868498\n",
       "5. 0.436068625779175\n",
       "\n",
       "\n"
      ],
      "text/plain": [
       "[1] 0.7551818 1.1816428 0.1457067 0.1397953 0.4360686"
      ]
     },
     "metadata": {},
     "output_type": "display_data"
    }
   ],
   "source": [
    "set.seed(1)\n",
    "rexp(5)"
   ]
  },
  {
   "cell_type": "code",
   "execution_count": 67,
   "metadata": {},
   "outputs": [
    {
     "data": {
      "image/png": "[encoded data removed]",
      "text/plain": [
       "Plot with title \"n = 1000\""
      ]
     },
     "metadata": {},
     "output_type": "display_data"
    }
   ],
   "source": [
    "# Dividimos la ventana gráfica en tres columnas\n",
    "\n",
    "par(mfrow = c(1, 3))\n",
    "\n",
    "# Rejilla de valores del eje X\n",
    "\n",
    "x <- seq(0, 12, length = 200)\n",
    "\n",
    "# Fijamos semilla\n",
    "\n",
    "set.seed(1)\n",
    "\n",
    "# n = 10\n",
    "\n",
    "hist(rexp(10), main = \"n = 10\",\n",
    "     xlab = \"\", prob = TRUE)\n",
    "lines(x, dexp(x), col = \"red\", lwd = 2)\n",
    "\n",
    "# n = 100\n",
    "\n",
    "hist(rexp(100), main = \"n = 100\",\n",
    "     xlab = \"\", prob = TRUE)\n",
    "lines(x, dexp(x), col = \"red\", lwd = 2)\n",
    "\n",
    "# n = 1000\n",
    "\n",
    "hist(rexp(1000), main = \"n = 1000\",\n",
    "     xlab = \"\", prob = TRUE)\n",
    "lines(x, dexp(x), col = \"red\", lwd = 2)\n",
    "\n",
    "# Volvemos a la ventana gráfica original\n",
    "par(mfrow = c(1, 1))"
   ]
  },
  {
   "cell_type": "markdown",
   "metadata": {},
   "source": [
    "\n"
   ]
  },
  {
   "cell_type": "code",
   "execution_count": null,
   "metadata": {},
   "outputs": [],
   "source": []
  }
 ],
 "metadata": {
  "kernelspec": {
   "display_name": "R",
   "language": "R",
   "name": "ir"
  },
  "language_info": {
   "codemirror_mode": "r",
   "file_extension": ".r",
   "mimetype": "text/x-r-source",
   "name": "R",
   "pygments_lexer": "r",
   "version": "3.6.1"
  }
 },
 "nbformat": 4,
 "nbformat_minor": 2
}
