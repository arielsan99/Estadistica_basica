{
 "cells": [
  {
   "cell_type": "markdown",
   "metadata": {},
   "source": [
    "# Conceptos Basicos"
   ]
  },
  {
   "cell_type": "code",
   "execution_count": 2,
   "metadata": {},
   "outputs": [
    {
     "data": {
      "text/html": [
       "<ol class=list-inline>\n",
       "\t<li>38</li>\n",
       "\t<li>50</li>\n",
       "\t<li>40</li>\n",
       "\t<li>30</li>\n",
       "</ol>\n"
      ],
      "text/latex": [
       "\\begin{enumerate*}\n",
       "\\item 38\n",
       "\\item 50\n",
       "\\item 40\n",
       "\\item 30\n",
       "\\end{enumerate*}\n"
      ],
      "text/markdown": [
       "1. 38\n",
       "2. 50\n",
       "3. 40\n",
       "4. 30\n",
       "\n",
       "\n"
      ],
      "text/plain": [
       "[1] 38 50 40 30"
      ]
     },
     "metadata": {},
     "output_type": "display_data"
    }
   ],
   "source": [
    "notas = c(38,50,40,30)\n",
    "notas\n",
    "n = length(notas)\n"
   ]
  },
  {
   "cell_type": "markdown",
   "metadata": {},
   "source": [
    "$$\\overline{x} = \\frac{\\sum_{i=1}^{N} X_{i}\n",
    "}{N}$$\n"
   ]
  },
  {
   "cell_type": "code",
   "execution_count": 24,
   "metadata": {},
   "outputs": [
    {
     "data": {
      "text/html": [
       "39.5"
      ],
      "text/latex": [
       "39.5"
      ],
      "text/markdown": [
       "39.5"
      ],
      "text/plain": [
       "[1] 39.5"
      ]
     },
     "metadata": {},
     "output_type": "display_data"
    }
   ],
   "source": [
    "media = mean(notas)\n",
    "media"
   ]
  },
  {
   "cell_type": "markdown",
   "metadata": {},
   "source": [
    "\n",
    "### Media aritmética\n",
    "\n",
    "$$\\overline{x} = \\frac{1}{n}\\sum_{i=1}^n x_i$$."
   ]
  },
  {
   "cell_type": "code",
   "execution_count": 5,
   "metadata": {},
   "outputs": [
    {
     "data": {
      "text/html": [
       "39.5"
      ],
      "text/latex": [
       "39.5"
      ],
      "text/markdown": [
       "39.5"
      ],
      "text/plain": [
       "[1] 39.5"
      ]
     },
     "metadata": {},
     "output_type": "display_data"
    }
   ],
   "source": [
    "# media\n",
    "\n",
    "sum(notas)/n "
   ]
  },
  {
   "cell_type": "markdown",
   "metadata": {},
   "source": [
    "\n",
    "### Media aritmética ponderada\n",
    "\n",
    "$$\\bar{x}_w = \\frac{\\sum_{i=1}^nw_i\\cdot x_i}{\\sum_{i=1}^n w_i}$$"
   ]
  },
  {
   "cell_type": "code",
   "execution_count": 9,
   "metadata": {},
   "outputs": [
    {
     "data": {
      "text/html": [
       "39.0333333333333"
      ],
      "text/latex": [
       "39.0333333333333"
      ],
      "text/markdown": [
       "39.0333333333333"
      ],
      "text/plain": [
       "[1] 39.03333"
      ]
     },
     "metadata": {},
     "output_type": "display_data"
    }
   ],
   "source": [
    "w = c(13, 25, 48, 34)\n",
    "sum(w*notas)/sum(w)"
   ]
  },
  {
   "cell_type": "markdown",
   "metadata": {},
   "source": [
    "### Media geométrica\n",
    "\n",
    "$$\\bar{x}_G = \\left(\\prod_{i=1}^n x_i\\right)^{1/n}$$"
   ]
  },
  {
   "cell_type": "code",
   "execution_count": 10,
   "metadata": {},
   "outputs": [
    {
     "data": {
      "text/html": [
       "38.8582923846912"
      ],
      "text/latex": [
       "38.8582923846912"
      ],
      "text/markdown": [
       "38.8582923846912"
      ],
      "text/plain": [
       "[1] 38.85829"
      ]
     },
     "metadata": {},
     "output_type": "display_data"
    },
    {
     "data": {
      "text/html": [
       "38.8582923846912"
      ],
      "text/latex": [
       "38.8582923846912"
      ],
      "text/markdown": [
       "38.8582923846912"
      ],
      "text/plain": [
       "[1] 38.85829"
      ]
     },
     "metadata": {},
     "output_type": "display_data"
    }
   ],
   "source": [
    "prod(notas)^(1/n)\n",
    "prod(notas^(1/n))"
   ]
  },
  {
   "cell_type": "markdown",
   "metadata": {},
   "source": [
    "\n",
    "### Media armónica\n",
    "\n",
    "$$\\bar{x}_A = \\frac{n}{\\sum_{i=1}^{n}\\frac{1}{x_i}}$$"
   ]
  },
  {
   "cell_type": "code",
   "execution_count": 11,
   "metadata": {},
   "outputs": [
    {
     "data": {
      "text/html": [
       "38.2229673093043"
      ],
      "text/latex": [
       "38.2229673093043"
      ],
      "text/markdown": [
       "38.2229673093043"
      ],
      "text/plain": [
       "[1] 38.22297"
      ]
     },
     "metadata": {},
     "output_type": "display_data"
    }
   ],
   "source": [
    "n/sum(1/notas)"
   ]
  },
  {
   "cell_type": "code",
   "execution_count": 13,
   "metadata": {},
   "outputs": [
    {
     "data": {
      "text/html": [
       "30"
      ],
      "text/latex": [
       "30"
      ],
      "text/markdown": [
       "30"
      ],
      "text/plain": [
       "[1] 30"
      ]
     },
     "metadata": {},
     "output_type": "display_data"
    },
    {
     "data": {
      "text/html": [
       "50"
      ],
      "text/latex": [
       "50"
      ],
      "text/markdown": [
       "50"
      ],
      "text/plain": [
       "[1] 50"
      ]
     },
     "metadata": {},
     "output_type": "display_data"
    }
   ],
   "source": [
    "## Mínimo y máximo\n",
    "\n",
    "min(notas)\n",
    "max(notas)"
   ]
  },
  {
   "cell_type": "code",
   "execution_count": 25,
   "metadata": {},
   "outputs": [
    {
     "data": {
      "text/html": [
       "39"
      ],
      "text/latex": [
       "39"
      ],
      "text/markdown": [
       "39"
      ],
      "text/plain": [
       "[1] 39"
      ]
     },
     "metadata": {},
     "output_type": "display_data"
    }
   ],
   "source": [
    "mediana = median(notas)\n",
    "mediana"
   ]
  },
  {
   "cell_type": "code",
   "execution_count": 26,
   "metadata": {},
   "outputs": [
    {
     "data": {
      "text/html": [
       "4"
      ],
      "text/latex": [
       "4"
      ],
      "text/markdown": [
       "4"
      ],
      "text/plain": [
       "[1] 4"
      ]
     },
     "metadata": {},
     "output_type": "display_data"
    }
   ],
   "source": [
    "longitud = length(notas)\n",
    "longitud"
   ]
  },
  {
   "cell_type": "code",
   "execution_count": 28,
   "metadata": {},
   "outputs": [
    {
     "data": {
      "text/html": [
       "8.22597511950204"
      ],
      "text/latex": [
       "8.22597511950204"
      ],
      "text/markdown": [
       "8.22597511950204"
      ],
      "text/plain": [
       "[1] 8.225975"
      ]
     },
     "metadata": {},
     "output_type": "display_data"
    }
   ],
   "source": [
    "# desviación típica\n",
    "desv.tip = sd(notas)\n",
    "desv.tip"
   ]
  },
  {
   "cell_type": "code",
   "execution_count": 31,
   "metadata": {},
   "outputs": [
    {
     "data": {
      "text/html": [
       "6.5"
      ],
      "text/latex": [
       "6.5"
      ],
      "text/markdown": [
       "6.5"
      ],
      "text/plain": [
       "[1] 6.5"
      ]
     },
     "metadata": {},
     "output_type": "display_data"
    }
   ],
   "source": [
    "# el rango intercuartil (el doble de Q, dado que no está dividido por 2)\n",
    "r_intercuartil = IQR(notas)\n",
    "r_intercuartil"
   ]
  },
  {
   "cell_type": "code",
   "execution_count": 33,
   "metadata": {},
   "outputs": [
    {
     "data": {
      "text/html": [
       "<strong>10%:</strong> 32.4"
      ],
      "text/latex": [
       "\\textbf{10\\textbackslash{}\\%:} 32.4"
      ],
      "text/markdown": [
       "**10%:** 32.4"
      ],
      "text/plain": [
       " 10% \n",
       "32.4 "
      ]
     },
     "metadata": {},
     "output_type": "display_data"
    },
    {
     "data": {
      "text/html": [
       "<strong>20%:</strong> 34.8"
      ],
      "text/latex": [
       "\\textbf{20\\textbackslash{}\\%:} 34.8"
      ],
      "text/markdown": [
       "**20%:** 34.8"
      ],
      "text/plain": [
       " 20% \n",
       "34.8 "
      ]
     },
     "metadata": {},
     "output_type": "display_data"
    },
    {
     "data": {
      "text/html": [
       "<strong>50%:</strong> 39"
      ],
      "text/latex": [
       "\\textbf{50\\textbackslash{}\\%:} 39"
      ],
      "text/markdown": [
       "**50%:** 39"
      ],
      "text/plain": [
       "50% \n",
       " 39 "
      ]
     },
     "metadata": {},
     "output_type": "display_data"
    }
   ],
   "source": [
    "# los percentiles 10, 20, 50\n",
    "quantile(notas,.10)\n",
    "quantile(notas,.20)\n",
    "quantile(notas,.50)"
   ]
  },
  {
   "cell_type": "code",
   "execution_count": 34,
   "metadata": {},
   "outputs": [
    {
     "data": {
      "text/html": [
       "39"
      ],
      "text/latex": [
       "39"
      ],
      "text/markdown": [
       "39"
      ],
      "text/plain": [
       "[1] 39"
      ]
     },
     "metadata": {},
     "output_type": "display_data"
    }
   ],
   "source": [
    "# la media recortada al 30%\n",
    "mean(notas,trim=30/100)"
   ]
  },
  {
   "cell_type": "code",
   "execution_count": 42,
   "metadata": {},
   "outputs": [],
   "source": [
    "# la asimetría (momento de 3er orden)\n",
    "\n",
    "asimetria=function(x) {\n",
    "m3=mean((x-mean(x))^3)\n",
    "sesgo=m3/(sd(x)^3)\n",
    "sesgo}"
   ]
  },
  {
   "cell_type": "code",
   "execution_count": 43,
   "metadata": {},
   "outputs": [
    {
     "data": {
      "text/html": [
       "0.133393381873068"
      ],
      "text/latex": [
       "0.133393381873068"
      ],
      "text/markdown": [
       "0.133393381873068"
      ],
      "text/plain": [
       "[1] 0.1333934"
      ]
     },
     "metadata": {},
     "output_type": "display_data"
    }
   ],
   "source": [
    "asimetria(notas)"
   ]
  },
  {
   "cell_type": "code",
   "execution_count": 44,
   "metadata": {},
   "outputs": [],
   "source": [
    "# la curtosis (momento de 4o orden)\n",
    "\n",
    "curtosis=function(x) {\n",
    "m4=mean((x-mean(x))^4)\n",
    "curtosis=m4/(sd(x)^4)-3 \n",
    "curtosis}\n"
   ]
  },
  {
   "cell_type": "code",
   "execution_count": 45,
   "metadata": {},
   "outputs": [
    {
     "data": {
      "text/html": [
       "-1.8913389672159"
      ],
      "text/latex": [
       "-1.8913389672159"
      ],
      "text/markdown": [
       "-1.8913389672159"
      ],
      "text/plain": [
       "[1] -1.891339"
      ]
     },
     "metadata": {},
     "output_type": "display_data"
    }
   ],
   "source": [
    "curtosis(notas)"
   ]
  },
  {
   "cell_type": "code",
   "execution_count": 48,
   "metadata": {},
   "outputs": [
    {
     "data": {
      "text/plain": [
       "   Min. 1st Qu.  Median    Mean 3rd Qu.    Max. \n",
       "   30.0    36.0    39.0    39.5    42.5    50.0 "
      ]
     },
     "metadata": {},
     "output_type": "display_data"
    }
   ],
   "source": [
    "summary(notas)"
   ]
  },
  {
   "cell_type": "code",
   "execution_count": 50,
   "metadata": {},
   "outputs": [
    {
     "name": "stdout",
     "output_type": "stream",
     "text": [
      "\n",
      "  The decimal point is 1 digit(s) to the right of the |\n",
      "\n",
      "  3 | 0\n",
      "  3 | 8\n",
      "  4 | 0\n",
      "  4 | \n",
      "  5 | 0\n",
      "\n"
     ]
    }
   ],
   "source": [
    "# diagrama de tallo y hojas\n",
    "stem(notas)"
   ]
  },
  {
   "cell_type": "code",
   "execution_count": 51,
   "metadata": {},
   "outputs": [
    {
     "data": {
      "image/png": "[encoded data removed]",
      "text/plain": [
       "plot without title"
      ]
     },
     "metadata": {},
     "output_type": "display_data"
    }
   ],
   "source": [
    "# diagrama de caja y bigotes:\n",
    "\n",
    "boxplot(notas)"
   ]
  },
  {
   "cell_type": "code",
   "execution_count": 53,
   "metadata": {},
   "outputs": [
    {
     "data": {
      "image/png": "[encoded data removed]",
      "text/plain": [
       "Plot with title \"Histogram of notas\""
      ]
     },
     "metadata": {},
     "output_type": "display_data"
    }
   ],
   "source": [
    "# histograma\n",
    "hist(notas)"
   ]
  }
 ],
 "metadata": {
  "kernelspec": {
   "display_name": "R",
   "language": "R",
   "name": "ir"
  },
  "language_info": {
   "codemirror_mode": "r",
   "file_extension": ".r",
   "mimetype": "text/x-r-source",
   "name": "R",
   "pygments_lexer": "r",
   "version": "3.6.1"
  }
 },
 "nbformat": 4,
 "nbformat_minor": 2
}
